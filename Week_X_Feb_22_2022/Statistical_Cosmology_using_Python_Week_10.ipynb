{
  "nbformat": 4,
  "nbformat_minor": 0,
  "metadata": {
    "colab": {
      "name": "Statistical_Cosmology_using_Python_Week_10.ipynb",
      "provenance": [],
      "collapsed_sections": [],
      "toc_visible": true
    },
    "kernelspec": {
      "name": "python3",
      "display_name": "Python 3"
    },
    "language_info": {
      "name": "python"
    }
  },
  "cells": [
    {
      "cell_type": "markdown",
      "source": [
        "# Import Packages"
      ],
      "metadata": {
        "id": "Qcf-rSFYfopd"
      }
    },
    {
      "cell_type": "code",
      "execution_count": 1,
      "metadata": {
        "id": "_iv58OfnKDby"
      },
      "outputs": [],
      "source": [
        "import numpy as np\n",
        "import matplotlib.pyplot as plt\n",
        "import pandas as pd\n",
        "import random"
      ]
    },
    {
      "cell_type": "markdown",
      "source": [
        "#Random Number Operations"
      ],
      "metadata": {
        "id": "4QpzJINEfsP7"
      }
    },
    {
      "cell_type": "markdown",
      "source": [
        "## Random Items from list, tuple \\& string"
      ],
      "metadata": {
        "id": "zo-I4JvIfzia"
      }
    },
    {
      "cell_type": "code",
      "source": [
        "list=[0,2,4,6,8]\n",
        "string=\"cosmology\"\n",
        "tuple=('Astronomy', 'Astrophysics', 'Cosmology', 'Dark Energy', 'Dark Matter')  "
      ],
      "metadata": {
        "id": "Rt3S5doxjQCX"
      },
      "execution_count": 2,
      "outputs": []
    },
    {
      "cell_type": "code",
      "source": [
        "print(random.choice(list))"
      ],
      "metadata": {
        "colab": {
          "base_uri": "https://localhost:8080/"
        },
        "id": "WJ9AD15ZgCbv",
        "outputId": "b6b3052f-67e9-4b88-f09e-4cce6a6589ea"
      },
      "execution_count": 3,
      "outputs": [
        {
          "output_type": "stream",
          "name": "stdout",
          "text": [
            "2\n"
          ]
        }
      ]
    },
    {
      "cell_type": "code",
      "source": [
        "print(random.choice(string))"
      ],
      "metadata": {
        "colab": {
          "base_uri": "https://localhost:8080/"
        },
        "id": "AWGM8PBOgCY2",
        "outputId": "a3e6dfc9-de69-4467-e683-df5338d7004f"
      },
      "execution_count": 4,
      "outputs": [
        {
          "output_type": "stream",
          "name": "stdout",
          "text": [
            "o\n"
          ]
        }
      ]
    },
    {
      "cell_type": "code",
      "source": [
        "print(random.choice(tuple))"
      ],
      "metadata": {
        "colab": {
          "base_uri": "https://localhost:8080/"
        },
        "id": "YNgq2bwngCVI",
        "outputId": "96c341f0-f21d-4c26-e7d3-9111236083a0"
      },
      "execution_count": 5,
      "outputs": [
        {
          "output_type": "stream",
          "name": "stdout",
          "text": [
            "Cosmology\n"
          ]
        }
      ]
    },
    {
      "cell_type": "code",
      "source": [
        "random.random()"
      ],
      "metadata": {
        "colab": {
          "base_uri": "https://localhost:8080/"
        },
        "id": "GuJNXHu9e-56",
        "outputId": "ce58425f-dd3c-42d3-b090-a6ed6e09d6dd"
      },
      "execution_count": 6,
      "outputs": [
        {
          "output_type": "execute_result",
          "data": {
            "text/plain": [
              "0.837190274378118"
            ]
          },
          "metadata": {},
          "execution_count": 6
        }
      ]
    },
    {
      "cell_type": "markdown",
      "source": [
        "## Random Shuffle"
      ],
      "metadata": {
        "id": "JoX5hDsKjCe4"
      }
    },
    {
      "cell_type": "code",
      "source": [
        "random.shuffle(list)  #shuffle will only work in list-->It changes the original list\n",
        "print(list)"
      ],
      "metadata": {
        "colab": {
          "base_uri": "https://localhost:8080/"
        },
        "id": "dZ5GNKCRiXlS",
        "outputId": "ed3cba38-95c1-4de9-e6ae-2db66b4c72fb"
      },
      "execution_count": 7,
      "outputs": [
        {
          "output_type": "stream",
          "name": "stdout",
          "text": [
            "[4, 6, 8, 2, 0]\n"
          ]
        }
      ]
    },
    {
      "cell_type": "markdown",
      "source": [
        "##Random Sampling"
      ],
      "metadata": {
        "id": "rBo4nkqB-x6P"
      }
    },
    {
      "cell_type": "code",
      "source": [
        "list=[0,2,4,6,8]\n",
        "random.sample(list,3) #return a particluar list of items without any chnage in origi list"
      ],
      "metadata": {
        "colab": {
          "base_uri": "https://localhost:8080/"
        },
        "id": "Qx0hicv3-vtW",
        "outputId": "25aba29a-53bf-4b4c-c634-948578460698"
      },
      "execution_count": 8,
      "outputs": [
        {
          "output_type": "execute_result",
          "data": {
            "text/plain": [
              "[8, 0, 2]"
            ]
          },
          "metadata": {},
          "execution_count": 8
        }
      ]
    },
    {
      "cell_type": "markdown",
      "source": [
        "## Generate Random Numbers"
      ],
      "metadata": {
        "id": "nMwo06xIwyQ3"
      }
    },
    {
      "cell_type": "code",
      "source": [
        "print(random.randint(0,5))  #Generate a Random Number"
      ],
      "metadata": {
        "colab": {
          "base_uri": "https://localhost:8080/"
        },
        "id": "xBu0GoHpuYOG",
        "outputId": "c531a654-b3eb-4a79-a667-23f1526af281"
      },
      "execution_count": 9,
      "outputs": [
        {
          "output_type": "stream",
          "name": "stdout",
          "text": [
            "4\n"
          ]
        }
      ]
    },
    {
      "cell_type": "code",
      "source": [
        "print([random.randint(0,10) for i in range(5)]) #Generate a list of Random Number List"
      ],
      "metadata": {
        "colab": {
          "base_uri": "https://localhost:8080/"
        },
        "id": "PYs7Wd-fwtdJ",
        "outputId": "1e4db31c-f97e-49e7-d736-90d3fa29db09"
      },
      "execution_count": 10,
      "outputs": [
        {
          "output_type": "stream",
          "name": "stdout",
          "text": [
            "[1, 0, 4, 1, 2]\n"
          ]
        }
      ]
    },
    {
      "cell_type": "code",
      "source": [
        "#Alternatively, for Random number list, you can use numpy as\n",
        "np.random.randint(0,10,5)"
      ],
      "metadata": {
        "colab": {
          "base_uri": "https://localhost:8080/"
        },
        "id": "PyZ2pKvxxVHR",
        "outputId": "07824cb2-40f8-49b6-f858-8a5831a0831d"
      },
      "execution_count": 11,
      "outputs": [
        {
          "output_type": "execute_result",
          "data": {
            "text/plain": [
              "array([1, 9, 6, 7, 0])"
            ]
          },
          "metadata": {},
          "execution_count": 11
        }
      ]
    },
    {
      "cell_type": "code",
      "source": [
        "np.random.randint(0,10,size=5) #Basically the last arguments denotes the size of list"
      ],
      "metadata": {
        "colab": {
          "base_uri": "https://localhost:8080/"
        },
        "id": "lKOw4TsDzz6i",
        "outputId": "d6ac5c7e-d6af-42d8-e0af-293942a02a25"
      },
      "execution_count": 12,
      "outputs": [
        {
          "output_type": "execute_result",
          "data": {
            "text/plain": [
              "array([5, 0, 3, 1, 3])"
            ]
          },
          "metadata": {},
          "execution_count": 12
        }
      ]
    },
    {
      "cell_type": "code",
      "source": [
        "np.random.randint(0,10,size=(2,5))"
      ],
      "metadata": {
        "colab": {
          "base_uri": "https://localhost:8080/"
        },
        "id": "eNMKtneY4Tnr",
        "outputId": "4889b1c2-cee2-41d0-9f78-7de392a3e9f9"
      },
      "execution_count": 13,
      "outputs": [
        {
          "output_type": "execute_result",
          "data": {
            "text/plain": [
              "array([[9, 8, 1, 6, 6],\n",
              "       [8, 7, 9, 6, 0]])"
            ]
          },
          "metadata": {},
          "execution_count": 13
        }
      ]
    },
    {
      "cell_type": "code",
      "source": [
        "#Suppose you want to generate random floating values using randint\n",
        "np.random.randint(0,10,size=(2,5)).astype(\"float\")/10"
      ],
      "metadata": {
        "colab": {
          "base_uri": "https://localhost:8080/"
        },
        "id": "nRFje-EE-QLO",
        "outputId": "f45dd9e6-b705-4456-f183-83afda2ef763"
      },
      "execution_count": 14,
      "outputs": [
        {
          "output_type": "execute_result",
          "data": {
            "text/plain": [
              "array([[0.5, 0.3, 0.4, 0. , 0.4],\n",
              "       [0.1, 0. , 0.5, 0. , 0. ]])"
            ]
          },
          "metadata": {},
          "execution_count": 14
        }
      ]
    },
    {
      "cell_type": "code",
      "source": [
        "#Alternatively, one can use random_sample\n",
        "np.random.random_sample(size=(2,5))"
      ],
      "metadata": {
        "colab": {
          "base_uri": "https://localhost:8080/"
        },
        "id": "y8SMKj3O4smL",
        "outputId": "3621f94a-df8b-43c5-f611-560cc0a6752b"
      },
      "execution_count": 15,
      "outputs": [
        {
          "output_type": "execute_result",
          "data": {
            "text/plain": [
              "array([[0.82439903, 0.39924671, 0.49095907, 0.41336689, 0.92955337],\n",
              "       [0.93804929, 0.03275835, 0.89094834, 0.01740002, 0.71608271]])"
            ]
          },
          "metadata": {},
          "execution_count": 15
        }
      ]
    },
    {
      "cell_type": "code",
      "source": [
        ""
      ],
      "metadata": {
        "id": "CxnUKHpCwSV4"
      },
      "execution_count": 15,
      "outputs": []
    }
  ]
}