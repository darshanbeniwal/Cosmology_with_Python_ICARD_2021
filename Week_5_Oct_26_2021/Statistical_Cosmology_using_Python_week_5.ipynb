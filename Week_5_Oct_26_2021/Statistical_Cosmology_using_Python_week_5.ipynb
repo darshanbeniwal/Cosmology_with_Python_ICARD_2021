{
  "nbformat": 4,
  "nbformat_minor": 0,
  "metadata": {
    "colab": {
      "name": "Statistical_Cosmology_using_Python_week_6.ipynb",
      "provenance": [],
      "collapsed_sections": []
    },
    "kernelspec": {
      "display_name": "Python 3",
      "name": "python3"
    },
    "language_info": {
      "name": "python"
    }
  },
  "cells": [
    {
      "cell_type": "markdown",
      "metadata": {
        "id": "KnPfxEYTCs9K"
      },
      "source": [
        "# 1.Math"
      ]
    },
    {
      "cell_type": "code",
      "metadata": {
        "id": "6Owcz5w_DGMq",
        "colab": {
          "base_uri": "https://localhost:8080/",
          "height": 35
        },
        "outputId": "d449fdcc-72e3-4464-c848-992026f398be"
      },
      "source": [
        "'''\n",
        "Sometimes we have to perform mathematical tasks on numbers i.e. minimum, maximum,\n",
        " sqrt, ceil.,floor, pi etc.\n",
        "'''"
      ],
      "execution_count": 1,
      "outputs": [
        {
          "output_type": "execute_result",
          "data": {
            "application/vnd.google.colaboratory.intrinsic+json": {
              "type": "string"
            },
            "text/plain": [
              "'\\nSometimes we have to perform mathematical tasks on numbers i.e. minimum, maximum,\\n sqrt, ceil.,floor, pi etc.\\n'"
            ]
          },
          "metadata": {},
          "execution_count": 1
        }
      ]
    },
    {
      "cell_type": "code",
      "metadata": {
        "colab": {
          "base_uri": "https://localhost:8080/"
        },
        "id": "MdpI3_MCBLRS",
        "outputId": "aecf5589-192b-43ed-9b4a-f8818b77273d"
      },
      "source": [
        "a=(1,2,3,4)\n",
        "b=[4,3,5,7]\n",
        "print(min(a))\n",
        "print(max(b))"
      ],
      "execution_count": 2,
      "outputs": [
        {
          "output_type": "stream",
          "name": "stdout",
          "text": [
            "1\n",
            "7\n"
          ]
        }
      ]
    },
    {
      "cell_type": "code",
      "metadata": {
        "colab": {
          "base_uri": "https://localhost:8080/"
        },
        "id": "8N6oNN12DEZh",
        "outputId": "27b7661d-ebb6-4c63-ee5d-083c82e35eef"
      },
      "source": [
        "'''\n",
        "absolute (positive) value of the spacified number\n",
        "'''\n",
        "a=-65\n",
        "print(abs(a))"
      ],
      "execution_count": 3,
      "outputs": [
        {
          "output_type": "stream",
          "name": "stdout",
          "text": [
            "65\n"
          ]
        }
      ]
    },
    {
      "cell_type": "code",
      "metadata": {
        "colab": {
          "base_uri": "https://localhost:8080/"
        },
        "id": "SQxUI5YAEbIx",
        "outputId": "cc02ba6c-a4f5-4d72-92dc-5b474ef1e213"
      },
      "source": [
        "'''\n",
        "power of a number\n",
        "'''\n",
        "a=pow(3,4)   #3**4\n",
        "print(a)"
      ],
      "execution_count": 4,
      "outputs": [
        {
          "output_type": "stream",
          "name": "stdout",
          "text": [
            "81\n"
          ]
        }
      ]
    },
    {
      "cell_type": "code",
      "metadata": {
        "id": "QknUoMEcEkJ5"
      },
      "source": [
        "'''\n",
        "For some extended mathemaical function, please import math first\n",
        "'''\n",
        "import numpy as np"
      ],
      "execution_count": 5,
      "outputs": []
    },
    {
      "cell_type": "code",
      "metadata": {
        "colab": {
          "base_uri": "https://localhost:8080/"
        },
        "id": "MEY5gkEIE2uL",
        "outputId": "cdaccd53-c72e-47b6-e685-c58f7e1eff2d"
      },
      "source": [
        "x=np.sqrt(64)\n",
        "x"
      ],
      "execution_count": 6,
      "outputs": [
        {
          "output_type": "execute_result",
          "data": {
            "text/plain": [
              "8.0"
            ]
          },
          "metadata": {},
          "execution_count": 6
        }
      ]
    },
    {
      "cell_type": "code",
      "metadata": {
        "colab": {
          "base_uri": "https://localhost:8080/"
        },
        "id": "WhlCoLTvE7EK",
        "outputId": "c38d3102-36ad-4dcb-ea6f-91e76256213b"
      },
      "source": [
        "'''ceil or floor'''\n",
        "x=5.000001\n",
        "print(np.ceil(x))\n",
        "print(np.floor(x))"
      ],
      "execution_count": 7,
      "outputs": [
        {
          "output_type": "stream",
          "name": "stdout",
          "text": [
            "6.0\n",
            "5.0\n"
          ]
        }
      ]
    },
    {
      "cell_type": "code",
      "metadata": {
        "colab": {
          "base_uri": "https://localhost:8080/"
        },
        "id": "gYDM1i0_E9U9",
        "outputId": "8eefa9d3-ef04-4766-dcd8-6687129ba582"
      },
      "source": [
        "x=np.pi+6\n",
        "x"
      ],
      "execution_count": 8,
      "outputs": [
        {
          "output_type": "execute_result",
          "data": {
            "text/plain": [
              "9.141592653589793"
            ]
          },
          "metadata": {},
          "execution_count": 8
        }
      ]
    },
    {
      "cell_type": "markdown",
      "metadata": {
        "id": "7AX6RCjBrSz6"
      },
      "source": [
        "# 2.File handling"
      ]
    },
    {
      "cell_type": "markdown",
      "metadata": {
        "id": "0vs3e5u57h_l"
      },
      "source": [
        "## 2.1 Create/write a file"
      ]
    },
    {
      "cell_type": "code",
      "metadata": {
        "id": "qvAHh2gZ6-J6"
      },
      "source": [
        "import numpy as np"
      ],
      "execution_count": 9,
      "outputs": []
    },
    {
      "cell_type": "code",
      "metadata": {
        "id": "I7Bd_kaVrQfz"
      },
      "source": [
        "#To create a new file in Python, use the open() method\n",
        "file = open(\"my_file.txt\", \"w\")\n"
      ],
      "execution_count": 10,
      "outputs": []
    },
    {
      "cell_type": "code",
      "metadata": {
        "id": "Zny1-PAl7_pq"
      },
      "source": [
        "file = open(\"my_file.txt\", \"w\")\n",
        "file.write(\"This is my first text file\")\n",
        "file.close()"
      ],
      "execution_count": 11,
      "outputs": []
    },
    {
      "cell_type": "code",
      "metadata": {
        "id": "QTd-Hz6NVz0Y"
      },
      "source": [
        "#Open a Text file and write some 1-D arrays "
      ],
      "execution_count": 12,
      "outputs": []
    },
    {
      "cell_type": "code",
      "metadata": {
        "id": "Bhs0EOZuURCC"
      },
      "source": [
        "a=np.array([[1],[2],[3],[4],[5],[6]])"
      ],
      "execution_count": 13,
      "outputs": []
    },
    {
      "cell_type": "code",
      "metadata": {
        "id": "IZQ8eT3aT8X9"
      },
      "source": [
        "a_file = open(\"test.txt\", \"w\")\n",
        "for row in a:\n",
        "    np.savetxt(a_file, row)\n",
        "a_file.close()"
      ],
      "execution_count": 14,
      "outputs": []
    },
    {
      "cell_type": "code",
      "metadata": {
        "id": "z9IJIV5SZpzy"
      },
      "source": [
        "# Single Line statement to save datapoints \n",
        "a=np.array([1,2,3,4])\n",
        "np.savetxt(\"test.txt\", a)"
      ],
      "execution_count": 15,
      "outputs": []
    },
    {
      "cell_type": "code",
      "metadata": {
        "id": "jbJn7tkqVsRa"
      },
      "source": [
        "aa=np.array([1,2,3,4,5])\n",
        "bb=np.array([1,2,3,4,5])\n",
        "np.savetxt(\"tt.txt\", (aa,bb))\n",
        "# np.savetxt(\"testt.txt\", np.transpose([a,b]))\n",
        "\n"
      ],
      "execution_count": 16,
      "outputs": []
    },
    {
      "cell_type": "code",
      "metadata": {
        "id": "_WIHOMFkdMVz"
      },
      "source": [
        "# Add header to Text File\n",
        "x=np.linspace(0,1,10)\n",
        "y=np.sin(x)\n",
        "np.savetxt(\"testt.txt\", np.transpose([x,y]), fmt=\"%f\",delimiter=\" \", newline=\"\\n\",header='hhh')\n"
      ],
      "execution_count": 17,
      "outputs": []
    },
    {
      "cell_type": "code",
      "metadata": {
        "id": "qcZIMhkfk73N"
      },
      "source": [
        "# Add footer to Text File\n",
        "\n",
        "x=np.linspace(0,1,10)\n",
        "y=np.sin(x)\n",
        "np.savetxt(\"testt.txt\", np.transpose([x,y]), fmt=\"%f\",delimiter=\" \", newline=\"\\n\",header='hhh', footer='ff')\n"
      ],
      "execution_count": 18,
      "outputs": []
    },
    {
      "cell_type": "code",
      "metadata": {
        "id": "WPIh5MKY8QaD",
        "colab": {
          "base_uri": "https://localhost:8080/",
          "height": 69
        },
        "outputId": "46332ec3-b7a3-48a6-e51b-34baf701d182"
      },
      "source": [
        "'''\n",
        "\"x\" - Create - will create a file, returns an error if the file exist\n",
        "\n",
        "\"a\" - Append - will create a file if the specified file does not exist\n",
        "\n",
        "\"w\" - Write - will create a file if the specified file does not exist \n",
        "\n",
        " The \"w\" method will overwrite the entire file.\n",
        "'''"
      ],
      "execution_count": 19,
      "outputs": [
        {
          "output_type": "execute_result",
          "data": {
            "application/vnd.google.colaboratory.intrinsic+json": {
              "type": "string"
            },
            "text/plain": [
              "'\\n\"x\" - Create - will create a file, returns an error if the file exist\\n\\n\"a\" - Append - will create a file if the specified file does not exist\\n\\n\"w\" - Write - will create a file if the specified file does not exist \\n\\n The \"w\" method will overwrite the entire file.\\n'"
            ]
          },
          "metadata": {},
          "execution_count": 19
        }
      ]
    },
    {
      "cell_type": "code",
      "metadata": {
        "colab": {
          "base_uri": "https://localhost:8080/",
          "height": 163
        },
        "id": "HvtOKurQ8bhb",
        "outputId": "f15ef192-c3e9-4d9c-9ba4-3a64b140a652"
      },
      "source": [
        "f = open(\"testt.txt\", \"x\")"
      ],
      "execution_count": 21,
      "outputs": [
        {
          "output_type": "error",
          "ename": "FileExistsError",
          "evalue": "ignored",
          "traceback": [
            "\u001b[0;31m---------------------------------------------------------------------------\u001b[0m",
            "\u001b[0;31mFileExistsError\u001b[0m                           Traceback (most recent call last)",
            "\u001b[0;32m<ipython-input-21-d4766eb19279>\u001b[0m in \u001b[0;36m<module>\u001b[0;34m()\u001b[0m\n\u001b[0;32m----> 1\u001b[0;31m \u001b[0mf\u001b[0m \u001b[0;34m=\u001b[0m \u001b[0mopen\u001b[0m\u001b[0;34m(\u001b[0m\u001b[0;34m\"testt.txt\"\u001b[0m\u001b[0;34m,\u001b[0m \u001b[0;34m\"x\"\u001b[0m\u001b[0;34m)\u001b[0m\u001b[0;34m\u001b[0m\u001b[0;34m\u001b[0m\u001b[0m\n\u001b[0m",
            "\u001b[0;31mFileExistsError\u001b[0m: [Errno 17] File exists: 'testt.txt'"
          ]
        }
      ]
    },
    {
      "cell_type": "markdown",
      "metadata": {
        "id": "lUciek_v8ueI"
      },
      "source": [
        "## 2.2 Read a File"
      ]
    },
    {
      "cell_type": "code",
      "metadata": {
        "id": "7pxqVxR383PC"
      },
      "source": [
        "f = open(\"testt.txt\", \"r\")    #will see the way to define its location"
      ],
      "execution_count": 22,
      "outputs": []
    },
    {
      "cell_type": "code",
      "metadata": {
        "colab": {
          "base_uri": "https://localhost:8080/"
        },
        "id": "iCoPPH639Di5",
        "outputId": "77941616-087d-439e-f15c-e26a409846bf"
      },
      "source": [
        "f = open(\"testt.txt\", \"r\")    #will see the way to define its location\n",
        "print(f.read())\n",
        "f.close()\n"
      ],
      "execution_count": 23,
      "outputs": [
        {
          "output_type": "stream",
          "name": "stdout",
          "text": [
            "# hhh\n",
            "0.000000 0.000000\n",
            "0.111111 0.110883\n",
            "0.222222 0.220398\n",
            "0.333333 0.327195\n",
            "0.444444 0.429956\n",
            "0.555556 0.527415\n",
            "0.666667 0.618370\n",
            "0.777778 0.701698\n",
            "0.888889 0.776372\n",
            "1.000000 0.841471\n",
            "# ff\n",
            "\n"
          ]
        }
      ]
    },
    {
      "cell_type": "code",
      "metadata": {
        "id": "uep8ggcr9J9Z"
      },
      "source": [
        "# read text file using loadtxt\n",
        "f= np.loadtxt(\"testt.txt\")"
      ],
      "execution_count": 24,
      "outputs": []
    },
    {
      "cell_type": "code",
      "metadata": {
        "colab": {
          "base_uri": "https://localhost:8080/"
        },
        "id": "icEGLrJKqokg",
        "outputId": "7512f515-69da-405f-ef71-7841ff5ee885"
      },
      "source": [
        "f"
      ],
      "execution_count": 25,
      "outputs": [
        {
          "output_type": "execute_result",
          "data": {
            "text/plain": [
              "array([[0.      , 0.      ],\n",
              "       [0.111111, 0.110883],\n",
              "       [0.222222, 0.220398],\n",
              "       [0.333333, 0.327195],\n",
              "       [0.444444, 0.429956],\n",
              "       [0.555556, 0.527415],\n",
              "       [0.666667, 0.61837 ],\n",
              "       [0.777778, 0.701698],\n",
              "       [0.888889, 0.776372],\n",
              "       [1.      , 0.841471]])"
            ]
          },
          "metadata": {},
          "execution_count": 25
        }
      ]
    },
    {
      "cell_type": "code",
      "metadata": {
        "colab": {
          "base_uri": "https://localhost:8080/"
        },
        "id": "-K9qlqLerNFX",
        "outputId": "2011d046-38b7-41d9-c39c-a857367fc09a"
      },
      "source": [
        "f[0]"
      ],
      "execution_count": 26,
      "outputs": [
        {
          "output_type": "execute_result",
          "data": {
            "text/plain": [
              "array([0., 0.])"
            ]
          },
          "metadata": {},
          "execution_count": 26
        }
      ]
    },
    {
      "cell_type": "code",
      "metadata": {
        "id": "Q5QXORTyrIA5"
      },
      "source": [
        "# read text file using loadtxt\n",
        "f= np.loadtxt(\"testt.txt\",unpack=\"True\")"
      ],
      "execution_count": 27,
      "outputs": []
    },
    {
      "cell_type": "code",
      "metadata": {
        "colab": {
          "base_uri": "https://localhost:8080/"
        },
        "id": "5PYpY86LrQZQ",
        "outputId": "13a01c48-21b7-4399-aeff-ddb45b6d0c4b"
      },
      "source": [
        "f"
      ],
      "execution_count": 28,
      "outputs": [
        {
          "output_type": "execute_result",
          "data": {
            "text/plain": [
              "array([[0.      , 0.111111, 0.222222, 0.333333, 0.444444, 0.555556,\n",
              "        0.666667, 0.777778, 0.888889, 1.      ],\n",
              "       [0.      , 0.110883, 0.220398, 0.327195, 0.429956, 0.527415,\n",
              "        0.61837 , 0.701698, 0.776372, 0.841471]])"
            ]
          },
          "metadata": {},
          "execution_count": 28
        }
      ]
    },
    {
      "cell_type": "code",
      "metadata": {
        "colab": {
          "base_uri": "https://localhost:8080/"
        },
        "id": "a3g5o-_srSbY",
        "outputId": "948771ef-296a-4ba3-99a3-d9b948e4b09b"
      },
      "source": [
        "f[0]"
      ],
      "execution_count": 29,
      "outputs": [
        {
          "output_type": "execute_result",
          "data": {
            "text/plain": [
              "array([0.      , 0.111111, 0.222222, 0.333333, 0.444444, 0.555556,\n",
              "       0.666667, 0.777778, 0.888889, 1.      ])"
            ]
          },
          "metadata": {},
          "execution_count": 29
        }
      ]
    },
    {
      "cell_type": "markdown",
      "metadata": {
        "id": "znk6KjrN91AY"
      },
      "source": [
        "## 2.3 Delete a File"
      ]
    },
    {
      "cell_type": "code",
      "metadata": {
        "id": "MyyR-B6O96_I"
      },
      "source": [
        "#Now to delete a file or folder you have to interact with the operating system\n",
        "\n",
        "#The OS module in Python provides functions for interacting with the operating system\n",
        "\n",
        "# The OS module in Python provides functions for creating and removing a directory \n",
        "#(folder), fetching its contents, changing and identifying the current directory, etc."
      ],
      "execution_count": 30,
      "outputs": []
    },
    {
      "cell_type": "code",
      "metadata": {
        "id": "xPZF372x967-"
      },
      "source": [
        "import os\n",
        "os.remove(\"my_file.txt\")"
      ],
      "execution_count": 31,
      "outputs": []
    },
    {
      "cell_type": "code",
      "metadata": {
        "id": "ifeJ_z9Z960P"
      },
      "source": [
        ""
      ],
      "execution_count": 31,
      "outputs": []
    },
    {
      "cell_type": "markdown",
      "metadata": {
        "id": "E1mtGB8YFaUm"
      },
      "source": [
        "# --->Next Session will includes<---\n",
        "## -->Mathplotlib\n",
        "## -->Install Python Modules\n",
        "## --> Pandas"
      ]
    },
    {
      "cell_type": "code",
      "metadata": {
        "id": "mJEcgmvo60dh"
      },
      "source": [
        ""
      ],
      "execution_count": 31,
      "outputs": []
    }
  ]
}