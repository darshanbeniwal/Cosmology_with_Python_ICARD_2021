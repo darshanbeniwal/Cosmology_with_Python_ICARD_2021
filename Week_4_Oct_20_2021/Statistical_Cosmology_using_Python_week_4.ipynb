{
  "nbformat": 4,
  "nbformat_minor": 0,
  "metadata": {
    "colab": {
      "name": "Statistical_Cosmology_using_Python_week_4.ipynb",
      "provenance": [],
      "collapsed_sections": [],
      "toc_visible": true
    },
    "kernelspec": {
      "display_name": "Python 3",
      "name": "python3"
    },
    "language_info": {
      "name": "python"
    }
  },
  "cells": [
    {
      "cell_type": "markdown",
      "metadata": {
        "id": "Ojj25A1IsAlJ"
      },
      "source": [
        "# 1.Python Conditions-Loops"
      ]
    },
    {
      "cell_type": "code",
      "metadata": {
        "id": "8sWLP9bxomK2",
        "colab": {
          "base_uri": "https://localhost:8080/",
          "height": 52
        },
        "outputId": "7cadc2aa-e677-428b-9de0-47475432daf5"
      },
      "source": [
        "'''\n",
        "Equals:                   a == b\n",
        "Not Equals:               a != b\n",
        "Less than:                a < b\n",
        "Less than or equal to:    a <= b\n",
        "Greater than:             a > b\n",
        "Greater than or equal to: a >= b\n",
        "'''"
      ],
      "execution_count": 1,
      "outputs": [
        {
          "output_type": "execute_result",
          "data": {
            "application/vnd.google.colaboratory.intrinsic+json": {
              "type": "string"
            },
            "text/plain": [
              "'\\nEquals:                   a == b\\nNot Equals:               a != b\\nLess than:                a < b\\nLess than or equal to:    a <= b\\nGreater than:             a > b\\nGreater than or equal to: a >= b\\n'"
            ]
          },
          "metadata": {},
          "execution_count": 1
        }
      ]
    },
    {
      "cell_type": "markdown",
      "metadata": {
        "id": "ASHuTB8lsklc"
      },
      "source": [
        "## 1.1 if.....else"
      ]
    },
    {
      "cell_type": "code",
      "metadata": {
        "colab": {
          "base_uri": "https://localhost:8080/"
        },
        "id": "VDh56uILsrpU",
        "outputId": "4e49f80d-22bb-4f8e-e877-8c06c2998318"
      },
      "source": [
        "a=4\n",
        "b=6\n",
        "if a<b:\n",
        "  print(\"b is greater than a\")"
      ],
      "execution_count": 2,
      "outputs": [
        {
          "output_type": "stream",
          "name": "stdout",
          "text": [
            "b is greater than a\n"
          ]
        }
      ]
    },
    {
      "cell_type": "code",
      "metadata": {
        "colab": {
          "base_uri": "https://localhost:8080/",
          "height": 129
        },
        "id": "Zz1YPC5Es3Kn",
        "outputId": "2529edae-da78-48eb-dc6a-9ac76f81311a"
      },
      "source": [
        "'''\n",
        "Indentation (whitespace at the beginning of a line) is used by Python to specify \n",
        "scope in the code. Curly brackets are commonly used in other computer languages \n",
        "for this reason.\n",
        "'''\n",
        "a=4\n",
        "b=6\n",
        "if a<b:\n",
        "print(\"b is greater than a\")"
      ],
      "execution_count": 3,
      "outputs": [
        {
          "output_type": "error",
          "ename": "IndentationError",
          "evalue": "ignored",
          "traceback": [
            "\u001b[0;36m  File \u001b[0;32m\"<ipython-input-3-44b848c823f3>\"\u001b[0;36m, line \u001b[0;32m9\u001b[0m\n\u001b[0;31m    print(\"b is greater than a\")\u001b[0m\n\u001b[0m        ^\u001b[0m\n\u001b[0;31mIndentationError\u001b[0m\u001b[0;31m:\u001b[0m expected an indented block\n"
          ]
        }
      ]
    },
    {
      "cell_type": "code",
      "metadata": {
        "colab": {
          "base_uri": "https://localhost:8080/"
        },
        "id": "FRaLzq2ztxly",
        "outputId": "05f88364-f45c-402f-af8b-2fc61bddff09"
      },
      "source": [
        "a=4\n",
        "b=6\n",
        "if a>b:\n",
        "  print(\"a is greater than b\")\n",
        "else:                          \n",
        "  print(\"a is not greater than b\")"
      ],
      "execution_count": 4,
      "outputs": [
        {
          "output_type": "stream",
          "name": "stdout",
          "text": [
            "a is not greater than b\n"
          ]
        }
      ]
    },
    {
      "cell_type": "code",
      "metadata": {
        "colab": {
          "base_uri": "https://localhost:8080/",
          "height": 52
        },
        "id": "MLc64VW4uM1-",
        "outputId": "1406964e-277c-4b67-b336-ac2473e5c8b1"
      },
      "source": [
        "'''\n",
        "Now suppose we have more than two conditions i.e. greater, less and equal \n",
        "'''\n",
        "a=4\n",
        "b=5\n",
        "if a>b:\n",
        "  print(\"a is greater than b\")\n",
        "elif a==b:\n",
        "  print(\"a is equal to b\")\n",
        "else:\n",
        "  print(\"a is less than b\")\n",
        "\n",
        "'''\n",
        "else executes the conditions if all previous conditions are not true \n",
        "'''"
      ],
      "execution_count": 5,
      "outputs": [
        {
          "output_type": "stream",
          "name": "stdout",
          "text": [
            "a is less than b\n"
          ]
        },
        {
          "output_type": "execute_result",
          "data": {
            "application/vnd.google.colaboratory.intrinsic+json": {
              "type": "string"
            },
            "text/plain": [
              "'\\nelse executes the conditions if all previous conditions are not true \\n'"
            ]
          },
          "metadata": {},
          "execution_count": 5
        }
      ]
    },
    {
      "cell_type": "code",
      "metadata": {
        "colab": {
          "base_uri": "https://localhost:8080/"
        },
        "id": "7kX3E8dGvQED",
        "outputId": "7bf11124-8a3f-4c56-d329-440bcd326c61"
      },
      "source": [
        "'''\n",
        "one line if statement\n",
        "'''\n",
        "a=4\n",
        "b=5\n",
        "print(\"A\") if a > b else print(\"=\") if a == b else print(\"B\")\n"
      ],
      "execution_count": 7,
      "outputs": [
        {
          "output_type": "stream",
          "name": "stdout",
          "text": [
            "B\n"
          ]
        }
      ]
    },
    {
      "cell_type": "markdown",
      "metadata": {
        "id": "Tonh1YnqwXWU"
      },
      "source": [
        "## 1.2 while loop"
      ]
    },
    {
      "cell_type": "code",
      "metadata": {
        "colab": {
          "base_uri": "https://localhost:8080/"
        },
        "id": "13n_FMKrwBND",
        "outputId": "2c95bab7-39e8-4224-8186-75ae6ab6a109"
      },
      "source": [
        "i=1\n",
        "while i<5:\n",
        "  print (i)\n",
        "  i=i+1 #i+=1"
      ],
      "execution_count": 6,
      "outputs": [
        {
          "output_type": "stream",
          "name": "stdout",
          "text": [
            "1\n",
            "2\n",
            "3\n",
            "4\n"
          ]
        }
      ]
    },
    {
      "cell_type": "code",
      "metadata": {
        "colab": {
          "base_uri": "https://localhost:8080/"
        },
        "id": "-qnos4OXwmFb",
        "outputId": "b62fa825-50ce-4cd5-fcc7-e9f0712478c7"
      },
      "source": [
        "'''\n",
        "break statement\n",
        "'''\n",
        "i=1\n",
        "while i<5:\n",
        "  print (i)\n",
        "  if i==3:\n",
        "    break\n",
        "  i+=1"
      ],
      "execution_count": 8,
      "outputs": [
        {
          "output_type": "stream",
          "name": "stdout",
          "text": [
            "1\n",
            "2\n",
            "3\n"
          ]
        }
      ]
    },
    {
      "cell_type": "markdown",
      "metadata": {
        "id": "fEM5XStTxncL"
      },
      "source": [
        "## 1.3 for loop"
      ]
    },
    {
      "cell_type": "code",
      "metadata": {
        "colab": {
          "base_uri": "https://localhost:8080/"
        },
        "id": "6ToHUOORxkie",
        "outputId": "46e3d22d-1c27-4ed9-db7f-f0fe3169ac85"
      },
      "source": [
        "alpha_b=['Apple','Boy','Cat']\n",
        "for x in alpha_b: #x is a variable --->For loops iterate over a given sequence\n",
        "  print(x)"
      ],
      "execution_count": 9,
      "outputs": [
        {
          "output_type": "stream",
          "name": "stdout",
          "text": [
            "Apple\n",
            "Boy\n",
            "Cat\n"
          ]
        }
      ]
    },
    {
      "cell_type": "code",
      "metadata": {
        "colab": {
          "base_uri": "https://localhost:8080/"
        },
        "id": "Pl7QKgAmyKlg",
        "outputId": "64ccd48a-2ac2-4146-abca-1ad2881633e6"
      },
      "source": [
        "'''\n",
        "exit the loop when x is boy\n",
        "'''\n",
        "alpha_b=['Apple','Boy','Cat']\n",
        "for x in alpha_b:\n",
        "  if x=='Boy':\n",
        "    break\n",
        "  print(x)\n"
      ],
      "execution_count": 10,
      "outputs": [
        {
          "output_type": "stream",
          "name": "stdout",
          "text": [
            "Apple\n"
          ]
        }
      ]
    },
    {
      "cell_type": "code",
      "metadata": {
        "colab": {
          "base_uri": "https://localhost:8080/"
        },
        "id": "knH7LwVmzAvp",
        "outputId": "28db4de7-c1e4-4361-c276-c100fe9befca"
      },
      "source": [
        "'''\n",
        "the range() Function\n",
        "'''\n",
        "for x in range(5):    #which means values from 0 to 4 not 0 to 5\n",
        "  print(x)"
      ],
      "execution_count": 12,
      "outputs": [
        {
          "output_type": "stream",
          "name": "stdout",
          "text": [
            "0\n",
            "1\n",
            "2\n",
            "3\n",
            "4\n"
          ]
        }
      ]
    },
    {
      "cell_type": "code",
      "metadata": {
        "colab": {
          "base_uri": "https://localhost:8080/"
        },
        "id": "boL7I2P1zTkw",
        "outputId": "c7cb29c6-9f5a-4434-fd63-b00880b74c49"
      },
      "source": [
        "for x in range(2,5):    \n",
        "  print(x)"
      ],
      "execution_count": 11,
      "outputs": [
        {
          "output_type": "stream",
          "name": "stdout",
          "text": [
            "2\n",
            "3\n",
            "4\n"
          ]
        }
      ]
    },
    {
      "cell_type": "code",
      "metadata": {
        "colab": {
          "base_uri": "https://localhost:8080/"
        },
        "id": "3XDBZAsnzaFs",
        "outputId": "0c8868d0-0eb2-41f5-bb76-6a5695cf9e67"
      },
      "source": [
        "for x in range(0,40,10):\n",
        "  print(x)"
      ],
      "execution_count": 13,
      "outputs": [
        {
          "output_type": "stream",
          "name": "stdout",
          "text": [
            "0\n",
            "10\n",
            "20\n",
            "30\n"
          ]
        }
      ]
    },
    {
      "cell_type": "code",
      "metadata": {
        "colab": {
          "base_uri": "https://localhost:8080/"
        },
        "id": "xbJI6HdSz1Oy",
        "outputId": "027ed923-56df-4f9c-abe4-3c1f82403b07"
      },
      "source": [
        "'''\n",
        "Nested loops\n",
        "'''\n",
        "alpha_b=['Apple','Boy','Cat']\n",
        "fruits=['banana','mango','cherry']\n",
        "for x in alpha_b:\n",
        "  for y in fruits:\n",
        "    print(x,y)\n",
        "#The inner loop will executed one time for each iteration of the outer loop"
      ],
      "execution_count": 28,
      "outputs": [
        {
          "output_type": "stream",
          "name": "stdout",
          "text": [
            "Apple banana\n",
            "Apple mango\n",
            "Apple cherry\n",
            "Boy banana\n",
            "Boy mango\n",
            "Boy cherry\n",
            "Cat banana\n",
            "Cat mango\n",
            "Cat cherry\n"
          ]
        }
      ]
    },
    {
      "cell_type": "markdown",
      "metadata": {
        "id": "NlL6jyjh1WVD"
      },
      "source": [
        "# 2.Functions"
      ]
    },
    {
      "cell_type": "code",
      "metadata": {
        "id": "ux-huCkH0cd9",
        "colab": {
          "base_uri": "https://localhost:8080/",
          "height": 35
        },
        "outputId": "6262e017-fd05-4fcc-b21b-90be32b9ce4e"
      },
      "source": [
        "'''\n",
        "A function is defined using the def keyword in Python\n",
        "'''"
      ],
      "execution_count": 14,
      "outputs": [
        {
          "output_type": "execute_result",
          "data": {
            "application/vnd.google.colaboratory.intrinsic+json": {
              "type": "string"
            },
            "text/plain": [
              "'\\nA function is defined using the def keyword in Python\\n'"
            ]
          },
          "metadata": {},
          "execution_count": 14
        }
      ]
    },
    {
      "cell_type": "markdown",
      "metadata": {
        "id": "BFIzCOn69r7L"
      },
      "source": [
        "## 2.1 using keyword 'def'"
      ]
    },
    {
      "cell_type": "code",
      "metadata": {
        "id": "JDq-U1zy482U"
      },
      "source": [
        "def my_fun():\n",
        "  print(\"Hey there!\")"
      ],
      "execution_count": 15,
      "outputs": []
    },
    {
      "cell_type": "code",
      "metadata": {
        "colab": {
          "base_uri": "https://localhost:8080/"
        },
        "id": "R3wws0Dzsr7B",
        "outputId": "7b9f1c6c-9666-4346-f5ca-937219a2bd5f"
      },
      "source": [
        "my_fun()"
      ],
      "execution_count": 16,
      "outputs": [
        {
          "output_type": "stream",
          "name": "stdout",
          "text": [
            "Hey there!\n"
          ]
        }
      ]
    },
    {
      "cell_type": "code",
      "metadata": {
        "id": "QFQrzyhV5HXT"
      },
      "source": [
        "'''\n",
        "now use the return statements to tell a function that a value should be returend\n",
        "'''\n",
        "def my_fun(x):\n",
        "  return(x+5)"
      ],
      "execution_count": 17,
      "outputs": []
    },
    {
      "cell_type": "code",
      "metadata": {
        "colab": {
          "base_uri": "https://localhost:8080/"
        },
        "id": "9uHFIrrx63ZG",
        "outputId": "cc747e26-76ce-4688-c900-7daf743cb369"
      },
      "source": [
        "print(my_fun(1))\n",
        "print(my_fun(2))\n",
        "print(my_fun(3))\n",
        "print(my_fun(4))\n",
        "print(my_fun(5))"
      ],
      "execution_count": 18,
      "outputs": [
        {
          "output_type": "stream",
          "name": "stdout",
          "text": [
            "6\n",
            "7\n",
            "8\n",
            "9\n",
            "10\n"
          ]
        }
      ]
    },
    {
      "cell_type": "code",
      "metadata": {
        "colab": {
          "base_uri": "https://localhost:8080/"
        },
        "id": "txCAGD7r6e4Q",
        "outputId": "c918a774-c245-4989-cba9-71eae83fc494"
      },
      "source": [
        "i=1\n",
        "while i<5:\n",
        "  print(my_fun(i))\n",
        "  i+=1"
      ],
      "execution_count": 19,
      "outputs": [
        {
          "output_type": "stream",
          "name": "stdout",
          "text": [
            "6\n",
            "7\n",
            "8\n",
            "9\n"
          ]
        }
      ]
    },
    {
      "cell_type": "code",
      "metadata": {
        "id": "sUTPkhhG6iqh"
      },
      "source": [
        "def my_fun(x):\n",
        "  '''\n",
        "  This function return the entered number + 5\n",
        "  '''\n",
        "  return(x+5)"
      ],
      "execution_count": 20,
      "outputs": []
    },
    {
      "cell_type": "markdown",
      "metadata": {
        "id": "gugfWLfe93dL"
      },
      "source": [
        "## 2.2 using keywords 'lambda'"
      ]
    },
    {
      "cell_type": "code",
      "metadata": {
        "id": "Wkp_NMsK7uA4",
        "colab": {
          "base_uri": "https://localhost:8080/",
          "height": 35
        },
        "outputId": "426abba2-ab27-4ff1-e52c-04b9bb116fa6"
      },
      "source": [
        "'''A lambda function can take any number of arguments, but only have one expression'''"
      ],
      "execution_count": 21,
      "outputs": [
        {
          "output_type": "execute_result",
          "data": {
            "application/vnd.google.colaboratory.intrinsic+json": {
              "type": "string"
            },
            "text/plain": [
              "'A lambda function can take any number of arguments, but only have one expression'"
            ]
          },
          "metadata": {},
          "execution_count": 21
        }
      ]
    },
    {
      "cell_type": "code",
      "metadata": {
        "colab": {
          "base_uri": "https://localhost:8080/"
        },
        "id": "CmGi-Rtm9kJB",
        "outputId": "42daa01e-eaa3-491f-b43f-ada567357ea5"
      },
      "source": [
        "x=lambda a:a+5\n",
        "print(x(1))"
      ],
      "execution_count": 22,
      "outputs": [
        {
          "output_type": "stream",
          "name": "stdout",
          "text": [
            "6\n"
          ]
        }
      ]
    },
    {
      "cell_type": "code",
      "metadata": {
        "colab": {
          "base_uri": "https://localhost:8080/"
        },
        "id": "66e1BHFf_QqS",
        "outputId": "d3cfd64d-3903-4dae-a7f4-df5e920b81df"
      },
      "source": [
        "x= lambda a,b,c:a-b-c\n",
        "print(x(9,5,2))"
      ],
      "execution_count": 27,
      "outputs": [
        {
          "output_type": "stream",
          "name": "stdout",
          "text": [
            "2\n"
          ]
        }
      ]
    },
    {
      "cell_type": "code",
      "metadata": {
        "id": "O9T3FuyA_dN2",
        "colab": {
          "base_uri": "https://localhost:8080/",
          "height": 35
        },
        "outputId": "db0fe3e3-08d4-4ae0-e9a8-cf00605b89d7"
      },
      "source": [
        "'''\n",
        "Here we can see this lambda function used as an anonymous function\n",
        "'''\n",
        "'''\n",
        "Now let me tell you-why should we use this lambda function\n",
        "'''"
      ],
      "execution_count": 24,
      "outputs": [
        {
          "output_type": "execute_result",
          "data": {
            "application/vnd.google.colaboratory.intrinsic+json": {
              "type": "string"
            },
            "text/plain": [
              "'\\nNow let me tell you-why should we use this lambda function\\n'"
            ]
          },
          "metadata": {},
          "execution_count": 24
        }
      ]
    },
    {
      "cell_type": "markdown",
      "metadata": {
        "id": "6SJlQQUlAire"
      },
      "source": [
        "## 2.3 using both 'def'+'lambda'"
      ]
    },
    {
      "cell_type": "code",
      "metadata": {
        "colab": {
          "base_uri": "https://localhost:8080/"
        },
        "id": "2Wjym_LNAhlj",
        "outputId": "217feefe-445a-40c6-a110-51c45913a6dc"
      },
      "source": [
        "def my_fun(x):\n",
        "  return (lambda a:a+x)\n",
        "\n",
        "p=my_fun(5)\n",
        "print(p(10))"
      ],
      "execution_count": 25,
      "outputs": [
        {
          "output_type": "stream",
          "name": "stdout",
          "text": [
            "15\n"
          ]
        }
      ]
    }
  ]
}